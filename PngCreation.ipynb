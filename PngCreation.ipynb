{
 "cells": [
  {
   "cell_type": "code",
   "execution_count": 3,
   "id": "2714e8b0",
   "metadata": {},
   "outputs": [
    {
     "name": "stdout",
     "output_type": "stream",
     "text": [
      "Hamming Score: 0.9161\n"
     ]
    }
   ],
   "source": [
    "import numpy as np\n",
    "from sklearn.metrics import accuracy_score\n",
    "\n",
    "test_preds = np.load(\"test_fusion_preds.npy\")\n",
    "test_true = np.load(\"test_fusion_true.npy\")\n",
    "hamming_score = np.mean([accuracy_score(test_true[:, i], test_preds[:, i]) for i in range(19)])\n",
    "print(f\"Hamming Score: {hamming_score:.4f}\")"
   ]
  },
  {
   "cell_type": "code",
   "execution_count": 4,
   "id": "03d472f3",
   "metadata": {},
   "outputs": [
    {
     "name": "stdout",
     "output_type": "stream",
     "text": [
      "Threshold 0.3: F1 Macro 0.5006, Accuracy 0.2314\n",
      "Threshold 0.4: F1 Macro 0.5006, Accuracy 0.2314\n",
      "Threshold 0.5: F1 Macro 0.5006, Accuracy 0.2314\n",
      "Threshold 0.6: F1 Macro 0.5006, Accuracy 0.2314\n"
     ]
    }
   ],
   "source": [
    "import numpy as np\n",
    "from sklearn.metrics import f1_score, accuracy_score\n",
    "\n",
    "test_preds = np.load(\"test_fusion_preds.npy\")\n",
    "test_true = np.load(\"test_fusion_true.npy\")\n",
    "for thresh in [0.3, 0.4, 0.5, 0.6]:\n",
    "    preds_binary = (test_preds > thresh).astype(int)\n",
    "    f1_macro = f1_score(test_true, preds_binary, average=\"macro\")\n",
    "    acc = accuracy_score(test_true, preds_binary)\n",
    "    print(f\"Threshold {thresh}: F1 Macro {f1_macro:.4f}, Accuracy {acc:.4f}\")"
   ]
  },
  {
   "cell_type": "code",
   "execution_count": 5,
   "id": "eb7a7e50",
   "metadata": {},
   "outputs": [],
   "source": [
    "import matplotlib.pyplot as plt\n",
    "\n",
    "genres = [\"Western\", \"Animation\", \"Music\", \"Documentary\", \"Drama\", \"Horror\", \"Comedy\", \"Sci-Fi\", \"Action\", \"Family\", \"Crime\", \"War\", \"Thriller\", \"Romance\", \"Mystery\", \"Adventure\", \"Fantasy\", \"History\", \"TV Movie\"]\n",
    "f1_scores = [0.7080, 0.7169, 0.6895, 0.6773, 0.6588, 0.6458, 0.6086, 0.6004, 0.5191, 0.5151, 0.4821, 0.4811, 0.4671, 0.3755, 0.3326, 0.3407, 0.3353, 0.2108, 0.1464]\n",
    "plt.figure(figsize=(10, 6))\n",
    "plt.barh(genres, f1_scores, color=\"skyblue\")\n",
    "plt.xlabel(\"F1 Score\")\n",
    "plt.title(\"Per-Genre F1 Scores\")\n",
    "plt.savefig(\"f1_bar_plot.png\")\n",
    "plt.close()"
   ]
  },
  {
   "cell_type": "code",
   "execution_count": null,
   "id": "256ab252",
   "metadata": {},
   "outputs": [],
   "source": []
  }
 ],
 "metadata": {
  "kernelspec": {
   "display_name": "base",
   "language": "python",
   "name": "python3"
  },
  "language_info": {
   "codemirror_mode": {
    "name": "ipython",
    "version": 3
   },
   "file_extension": ".py",
   "mimetype": "text/x-python",
   "name": "python",
   "nbconvert_exporter": "python",
   "pygments_lexer": "ipython3",
   "version": "3.12.4"
  }
 },
 "nbformat": 4,
 "nbformat_minor": 5
}
