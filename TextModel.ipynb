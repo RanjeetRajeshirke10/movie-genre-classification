{
 "cells": [
  {
   "cell_type": "markdown",
   "id": "79c070e6",
   "metadata": {},
   "source": [
    "Text Model\n"
   ]
  },
  {
   "cell_type": "code",
   "execution_count": null,
   "id": "bfe2f484-777f-43a4-8005-ccf36fe96f10",
   "metadata": {},
   "outputs": [
    {
     "name": "stdout",
     "output_type": "stream",
     "text": [
      "Latest TMDB movie ID: 1471794\n"
     ]
    }
   ],
   "source": [
    "import requests\n",
    "import json\n",
    "import os\n",
    "import time\n",
    "from concurrent.futures import ThreadPoolExecutor\n",
    "\n",
    "API_KEY = \"069cd4d6160f79ab6e3b8b55d695bd5b\"  \n",
    "BASE_URL = \"https://api.themoviedb.org/3\"\n",
    "TARGET_ENTRIES = 100000       \n",
    "IDS_TO_FETCH = 150000         \n",
    "CHUNK_SIZE = 10000            \n",
    "MAX_WORKERS = 10              \n",
    "\n",
    "\n",
    "def get_latest_movie_id():\n",
    "    url = f\"{BASE_URL}/movie/latest\"\n",
    "    params = {\"api_key\": API_KEY}\n",
    "    response = requests.get(url, params=params)\n",
    "    if response.status_code == 200:\n",
    "        return response.json()[\"id\"]\n",
    "    return None\n",
    "\n",
    "\n",
    "def fetch_movie(movie_id):\n",
    "    url = f\"{BASE_URL}/movie/{movie_id}\"\n",
    "    params = {\"api_key\": API_KEY, \"language\": \"en-US\"}\n",
    "    response = requests.get(url, params=params)\n",
    "    if response.status_code == 200:\n",
    "        return response.json()\n",
    "    return None  \n",
    "\n",
    "\n",
    "def process_movie(movie_id):\n",
    "    chunk_file = f\"movies/movies_chunk_{(movie_id // CHUNK_SIZE) * CHUNK_SIZE + 1}_to_{(movie_id // CHUNK_SIZE + 1) * CHUNK_SIZE}.json\"\n",
    "    if os.path.exists(chunk_file):\n",
    "        with open(chunk_file, \"r\") as f:\n",
    "            chunk_data = json.load(f)\n",
    "        if any(m[\"id\"] == movie_id for m in chunk_data):\n",
    "            return None\n",
    "    \n",
    "    movie = fetch_movie(movie_id)\n",
    "    if movie:\n",
    "        return movie\n",
    "    return None\n",
    "\n",
    "\n",
    "def save_chunk(chunk_data, start_id):\n",
    "    if chunk_data:\n",
    "        end_id = start_id + CHUNK_SIZE - 1\n",
    "        filename = f\"movies/movies_chunk_{start_id}_to_{end_id}.json\"\n",
    "        with open(filename, \"w\") as f:\n",
    "            json.dump(chunk_data, f)\n",
    "        print(f\"Saved chunk: {filename} ({len(chunk_data)} movies)\")\n",
    "\n",
    "\n",
    "def acquire_dataset(start_id=1, end_id=IDS_TO_FETCH):\n",
    "    if not os.path.exists(\"movies\"):\n",
    "        os.makedirs(\"movies\")\n",
    "\n",
    "    total_valid_movies = 0\n",
    "    current_chunk = []\n",
    "    chunk_start_id = start_id\n",
    "\n",
    "    with ThreadPoolExecutor(max_workers=MAX_WORKERS) as executor:\n",
    "        futures = {executor.submit(process_movie, movie_id): movie_id \n",
    "                   for movie_id in range(start_id, end_id + 1)}\n",
    "        \n",
    "        for future in futures:\n",
    "            movie = future.result()\n",
    "            if movie:\n",
    "                current_chunk.append(movie)\n",
    "                total_valid_movies += 1\n",
    "                if len(current_chunk) >= CHUNK_SIZE:\n",
    "                    save_chunk(current_chunk, chunk_start_id)\n",
    "                    current_chunk = []\n",
    "                    chunk_start_id += CHUNK_SIZE\n",
    "                print(f\"Valid movies: {total_valid_movies}/{TARGET_ENTRIES}\", end=\"\\r\")\n",
    "            time.sleep(0.2 / MAX_WORKERS)\n",
    "\n",
    "    if current_chunk:\n",
    "        save_chunk(current_chunk, chunk_start_id)\n",
    "\n",
    "    print(f\"\\nTotal valid movies fetched: {total_valid_movies}\")\n",
    "    return total_valid_movies >= TARGET_ENTRIES\n",
    "\n",
    "if __name__ == \"__main__\":\n",
    "    latest_id = get_latest_movie_id()\n",
    "    print(f\"Latest TMDB movie ID: {latest_id}\")\n",
    "    success = acquire_dataset(1, 150000)\n",
    "    print(f\"Reached target of {TARGET_ENTRIES} entries: {success}\")"
   ]
  },
  {
   "cell_type": "markdown",
   "id": "64ea53f9",
   "metadata": {},
   "source": [
    "Performing EDA on the Text Dataset"
   ]
  },
  {
   "cell_type": "code",
   "execution_count": 1,
   "id": "24becfeb",
   "metadata": {},
   "outputs": [],
   "source": [
    "import json\n",
    "import os\n",
    "import pandas as pd\n",
    "import matplotlib.pyplot as plt\n",
    "from collections import Counter"
   ]
  },
  {
   "cell_type": "code",
   "execution_count": null,
   "id": "2a8fdaca",
   "metadata": {},
   "outputs": [
    {
     "name": "stdout",
     "output_type": "stream",
     "text": [
      "Total movies: 95783\n"
     ]
    }
   ],
   "source": [
    "\n",
    "movies = []\n",
    "for chunk_file in os.listdir(\"movies\"):\n",
    "    if chunk_file.endswith(\".json\"):\n",
    "        with open(os.path.join(\"movies\", chunk_file), \"r\") as f:\n",
    "            movies.extend(json.load(f))\n",
    "\n",
    "df = pd.DataFrame(movies)\n",
    "print(f\"Total movies: {len(df)}\")"
   ]
  },
  {
   "cell_type": "code",
   "execution_count": null,
   "id": "2698c0be",
   "metadata": {},
   "outputs": [
    {
     "name": "stdout",
     "output_type": "stream",
     "text": [
      "\n",
      "Missing/Empty Data:\n",
      "Missing overviews: 0 (0.0%)\n",
      "Empty overviews: 4787 (5.0%)\n",
      "Missing genres: 0\n"
     ]
    }
   ],
   "source": [
    "\n",
    "print(\"\\nMissing/Empty Data:\")\n",
    "print(f\"Missing overviews: {df['overview'].isna().sum()} ({df['overview'].isna().mean()*100:.1f}%)\")\n",
    "print(f\"Empty overviews: {(df['overview'] == '').sum()} ({(df['overview'] == '').mean()*100:.1f}%)\")\n",
    "print(f\"Missing genres: {df['genres'].isna().sum()}\")"
   ]
  },
  {
   "cell_type": "code",
   "execution_count": null,
   "id": "1728f446",
   "metadata": {},
   "outputs": [
    {
     "name": "stdout",
     "output_type": "stream",
     "text": [
      "\n",
      "Overview Length Stats:\n",
      "count    95783.000000\n",
      "mean        51.346450\n",
      "std         35.614163\n",
      "min          0.000000\n",
      "25%         25.000000\n",
      "50%         44.000000\n",
      "75%         70.000000\n",
      "max        198.000000\n",
      "Name: overview_length, dtype: float64\n"
     ]
    },
    {
     "data": {
      "image/png": "[encoded data removed]",
      "text/plain": [
       "<Figure size 1000x600 with 1 Axes>"
      ]
     },
     "metadata": {},
     "output_type": "display_data"
    }
   ],
   "source": [
    "\n",
    "df[\"overview_length\"] = df[\"overview\"].apply(lambda x: len(str(x).split()) if pd.notna(x) else 0)\n",
    "print(\"\\nOverview Length Stats:\")\n",
    "print(df[\"overview_length\"].describe())\n",
    "plt.figure(figsize=(10, 6))\n",
    "df[\"overview_length\"].hist(bins=50, range=(0, 200))\n",
    "plt.title(\"Overview Word Count Distribution\")\n",
    "plt.xlabel(\"Words\")\n",
    "plt.ylabel(\"Frequency\")\n",
    "plt.show()"
   ]
  },
  {
   "cell_type": "code",
   "execution_count": null,
   "id": "a9a28b3f",
   "metadata": {},
   "outputs": [
    {
     "name": "stdout",
     "output_type": "stream",
     "text": [
      "\n",
      "Top 10 Genres:\n",
      "Drama: 34436 (20.1%)\n",
      "Comedy: 26763 (15.6%)\n",
      "Romance: 12002 (7.0%)\n",
      "Thriller: 11446 (6.7%)\n",
      "Action: 11340 (6.6%)\n",
      "Documentary: 9583 (5.6%)\n",
      "Horror: 9218 (5.4%)\n",
      "Crime: 8543 (5.0%)\n",
      "Music: 6953 (4.0%)\n",
      "Adventure: 5903 (3.4%)\n"
     ]
    },
    {
     "data": {
      "text/plain": [
       "<Figure size 1200x600 with 0 Axes>"
      ]
     },
     "metadata": {},
     "output_type": "display_data"
    },
    {
     "data": {
      "image/png": "[encoded data removed]",
      "text/plain": [
       "<Figure size 640x480 with 1 Axes>"
      ]
     },
     "metadata": {},
     "output_type": "display_data"
    }
   ],
   "source": [
    "\n",
    "all_genres = df[\"genres\"].explode().dropna().apply(lambda x: x[\"name\"])\n",
    "genre_counts = Counter(all_genres)\n",
    "print(\"\\nTop 10 Genres:\")\n",
    "for genre, count in genre_counts.most_common(10):\n",
    "    print(f\"{genre}: {count} ({count/len(all_genres)*100:.1f}%)\")\n",
    "plt.figure(figsize=(12, 6))\n",
    "pd.DataFrame(genre_counts.items(), columns=[\"Genre\", \"Count\"]).sort_values(\"Count\", ascending=False).head(10).plot(kind=\"bar\", x=\"Genre\", y=\"Count\")\n",
    "plt.title(\"Top 10 Genres\")\n",
    "plt.show()"
   ]
  },
  {
   "cell_type": "code",
   "execution_count": null,
   "id": "bee9a8c4",
   "metadata": {},
   "outputs": [
    {
     "name": "stdout",
     "output_type": "stream",
     "text": [
      "\n",
      "Number of Genres per Movie:\n",
      "num_genres\n",
      "1    34546\n",
      "2    29513\n",
      "3    16966\n",
      "0     8401\n",
      "4     4918\n",
      "5     1149\n",
      "6      236\n",
      "7       46\n",
      "8        8\n",
      "Name: count, dtype: int64\n"
     ]
    },
    {
     "data": {
      "image/png": "[encoded data removed]",
      "text/plain": [
       "<Figure size 800x600 with 1 Axes>"
      ]
     },
     "metadata": {},
     "output_type": "display_data"
    }
   ],
   "source": [
    "\n",
    "df[\"num_genres\"] = df[\"genres\"].apply(lambda x: len(x) if isinstance(x, list) else 0)\n",
    "print(\"\\nNumber of Genres per Movie:\")\n",
    "print(df[\"num_genres\"].value_counts())\n",
    "plt.figure(figsize=(8, 6))\n",
    "df[\"num_genres\"].hist(bins=range(6))\n",
    "plt.title(\"Number of Genres per Movie\")\n",
    "plt.xlabel(\"Number of Genres\")\n",
    "plt.ylabel(\"Count\")\n",
    "plt.show()"
   ]
  },
  {
   "cell_type": "code",
   "execution_count": null,
   "id": "0700f6e3",
   "metadata": {},
   "outputs": [
    {
     "name": "stdout",
     "output_type": "stream",
     "text": [
      "\n",
      "Top 10 Words:\n",
      "the: 278496\n",
      "a: 188993\n",
      "and: 148710\n",
      "of: 139656\n",
      "to: 138870\n",
      "in: 96117\n",
      "is: 68636\n",
      "his: 65938\n",
      "with: 47259\n",
      "he: 37347\n"
     ]
    }
   ],
   "source": [
    "\n",
    "words = \" \".join(df[\"overview\"].dropna()).lower().split()\n",
    "word_counts = Counter(words)\n",
    "print(\"\\nTop 10 Words:\")\n",
    "for word, count in word_counts.most_common(10):\n",
    "    print(f\"{word}: {count}\")"
   ]
  },
  {
   "cell_type": "code",
   "execution_count": null,
   "id": "8dfd5a76",
   "metadata": {},
   "outputs": [
    {
     "name": "stdout",
     "output_type": "stream",
     "text": [
      "\n",
      "Duplicate overviews: 4964\n",
      "\n",
      "Sample Short Overviews (<10 words):\n",
      "36332                                           \n",
      "49687                                           \n",
      "9528                                            \n",
      "70556                                           \n",
      "52728    Film about two sisters, Morana and Ela.\n",
      "Name: overview, dtype: object\n"
     ]
    }
   ],
   "source": [
    "\n",
    "print(\"\\nDuplicate overviews:\", df[\"overview\"].duplicated().sum())\n",
    "print(\"\\nSample Short Overviews (<10 words):\")\n",
    "print(df[df[\"overview_length\"] < 10][\"overview\"].sample(5))"
   ]
  },
  {
   "cell_type": "markdown",
   "id": "39ab5020",
   "metadata": {},
   "source": [
    "Cleaning Script"
   ]
  },
  {
   "cell_type": "code",
   "execution_count": 9,
   "id": "75e886f4",
   "metadata": {},
   "outputs": [
    {
     "name": "stdout",
     "output_type": "stream",
     "text": [
      "Starting movies: 95783\n"
     ]
    }
   ],
   "source": [
    "movies = []\n",
    "for chunk_file in os.listdir(\"movies\"):\n",
    "    if chunk_file.endswith(\".json\"):\n",
    "        with open(os.path.join(\"movies\", chunk_file), \"r\") as f:\n",
    "            movies.extend(json.load(f))\n",
    "\n",
    "print(f\"Starting movies: {len(movies)}\")"
   ]
  },
  {
   "cell_type": "code",
   "execution_count": null,
   "id": "9a3b727f",
   "metadata": {},
   "outputs": [
    {
     "name": "stdout",
     "output_type": "stream",
     "text": [
      "After dropping empty overviews: 90996\n",
      "After dropping zero genres: 84225\n",
      "After dropping duplicates: 84094\n"
     ]
    }
   ],
   "source": [
    "df = pd.DataFrame(movies)\n",
    "\n",
    "\n",
    "df = df[df[\"overview\"] != \"\"]\n",
    "print(f\"After dropping empty overviews: {len(df)}\")  \n",
    "\n",
    "\n",
    "df[\"num_genres\"] = df[\"genres\"].apply(lambda x: len(x) if isinstance(x, list) else 0)\n",
    "df = df[df[\"num_genres\"] > 0]\n",
    "print(f\"After dropping zero genres: {len(df)}\")  \n",
    "\n",
    "\n",
    "df = df.drop_duplicates(subset=\"overview\", keep=\"first\")\n",
    "print(f\"After dropping duplicates: {len(df)}\") "
   ]
  },
  {
   "cell_type": "code",
   "execution_count": 11,
   "id": "be154714",
   "metadata": {},
   "outputs": [
    {
     "name": "stdout",
     "output_type": "stream",
     "text": [
      "Saved cleaned dataset to 'cleaned_movies.json' with 84094 movies\n"
     ]
    }
   ],
   "source": [
    "cleaned_movies = df.to_dict(orient=\"records\")\n",
    "with open(\"cleaned_movies.json\", \"w\") as f:\n",
    "    json.dump(cleaned_movies, f)\n",
    "print(f\"Saved cleaned dataset to 'cleaned_movies.json' with {len(cleaned_movies)} movies\")"
   ]
  },
  {
   "cell_type": "code",
   "execution_count": 12,
   "id": "c685efe9",
   "metadata": {},
   "outputs": [
    {
     "name": "stdout",
     "output_type": "stream",
     "text": [
      "Cleaned movies: 84094\n",
      "Empty overviews: 0\n",
      "Zero genres: 0\n",
      "Duplicates: 0\n"
     ]
    }
   ],
   "source": [
    "with open(\"cleaned_movies.json\", \"r\") as f:\n",
    "    cleaned = json.load(f)\n",
    "df_clean = pd.DataFrame(cleaned)\n",
    "print(f\"Cleaned movies: {len(df_clean)}\")\n",
    "print(\"Empty overviews:\", (df_clean[\"overview\"] == \"\").sum())\n",
    "print(\"Zero genres:\", (df_clean[\"num_genres\"] == 0).sum())\n",
    "print(\"Duplicates:\", df_clean[\"overview\"].duplicated().sum())"
   ]
  },
  {
   "cell_type": "markdown",
   "id": "817b94c7",
   "metadata": {},
   "source": [
    "Preprocess the Text Data"
   ]
  },
  {
   "cell_type": "code",
   "execution_count": 13,
   "id": "23c5746c",
   "metadata": {},
   "outputs": [],
   "source": [
    "import pandas as pd\n",
    "import json\n",
    "import nltk\n",
    "from nltk.tokenize import word_tokenize\n",
    "from nltk.corpus import stopwords\n",
    "import string\n",
    "from sklearn.model_selection import train_test_split\n",
    "from tensorflow.keras.preprocessing.text import Tokenizer\n",
    "from tensorflow.keras.preprocessing.sequence import pad_sequences\n",
    "import numpy as np"
   ]
  },
  {
   "cell_type": "code",
   "execution_count": null,
   "id": "83ddbebf",
   "metadata": {},
   "outputs": [
    {
     "name": "stdout",
     "output_type": "stream",
     "text": [
      "Loaded 84094 movies from cleaned_movies.json\n"
     ]
    }
   ],
   "source": [
    "\n",
    "with open(\"cleaned_movies.json\", \"r\") as f:\n",
    "    movies = json.load(f)\n",
    "df = pd.DataFrame(movies)\n",
    "print(f\"Loaded {len(df)} movies from cleaned_movies.json\")"
   ]
  },
  {
   "cell_type": "code",
   "execution_count": 15,
   "id": "bafe0af3",
   "metadata": {},
   "outputs": [],
   "source": [
    "all_genres = [\n",
    "    \"Action\", \"Adventure\", \"Animation\", \"Comedy\", \"Crime\", \"Documentary\", \"Drama\",\n",
    "    \"Family\", \"Fantasy\", \"History\", \"Horror\", \"Music\", \"Mystery\", \"Romance\",\n",
    "    \"Science Fiction\", \"TV Movie\", \"Thriller\", \"War\", \"Western\"\n",
    "]"
   ]
  },
  {
   "cell_type": "code",
   "execution_count": null,
   "id": "07da5aac",
   "metadata": {},
   "outputs": [],
   "source": [
    "\n",
    "def encode_genres(genres):\n",
    "    labels = [0] * len(all_genres)\n",
    "    for genre in genres:\n",
    "        if genre[\"name\"] in all_genres:\n",
    "            labels[all_genres.index(genre[\"name\"])] = 1\n",
    "    return labels\n",
    "\n",
    "df[\"genre_labels\"] = df[\"genres\"].apply(encode_genres)"
   ]
  },
  {
   "cell_type": "code",
   "execution_count": null,
   "id": "a56986b7",
   "metadata": {},
   "outputs": [],
   "source": [
    "\n",
    "stop_words = set(stopwords.words(\"english\"))\n",
    "def preprocess_text(text):\n",
    "    tokens = word_tokenize(text.lower())\n",
    "    tokens = [t for t in tokens if t not in stop_words and t not in string.punctuation]\n",
    "    return \" \".join(tokens)"
   ]
  },
  {
   "cell_type": "code",
   "execution_count": 18,
   "id": "b2c2b382",
   "metadata": {},
   "outputs": [
    {
     "name": "stdout",
     "output_type": "stream",
     "text": [
      "Text preprocessing completed\n"
     ]
    }
   ],
   "source": [
    "df[\"processed_overview\"] = df[\"overview\"].apply(preprocess_text)\n",
    "print(\"Text preprocessing completed\")"
   ]
  },
  {
   "cell_type": "markdown",
   "id": "3253e3ad",
   "metadata": {},
   "source": [
    "Splitting the data"
   ]
  },
  {
   "cell_type": "code",
   "execution_count": null,
   "id": "09b53329",
   "metadata": {},
   "outputs": [
    {
     "name": "stdout",
     "output_type": "stream",
     "text": [
      "Train: 67275, Val: 8409, Test: 8410\n"
     ]
    }
   ],
   "source": [
    "\n",
    "train_df, temp_df = train_test_split(df, test_size=0.2, random_state=42)\n",
    "val_df, test_df = train_test_split(temp_df, test_size=0.5, random_state=42)\n",
    "print(f\"Train: {len(train_df)}, Val: {len(val_df)}, Test: {len(test_df)}\")"
   ]
  },
  {
   "cell_type": "code",
   "execution_count": null,
   "id": "3d6ddea7",
   "metadata": {},
   "outputs": [
    {
     "name": "stdout",
     "output_type": "stream",
     "text": [
      "Oversampled training set: 74000 samples\n",
      "Train padded shape: (74000, 100), Train labels shape: (74000, 19)\n",
      "Sample processed overview: story three veterans released army one night spent camping country one one wake meet three elvish br...\n",
      "Training Attention-based LSTM\n",
      "Epoch 1/10, Train Loss: 0.1954, Val Loss: 0.1576, Val F1 Macro: 0.0645\n",
      "Epoch 2/10, Train Loss: 0.1594, Val Loss: 0.1383, Val F1 Macro: 0.2336\n",
      "Epoch 3/10, Train Loss: 0.1401, Val Loss: 0.1321, Val F1 Macro: 0.3391\n",
      "Epoch 4/10, Train Loss: 0.1270, Val Loss: 0.1320, Val F1 Macro: 0.3904\n",
      "Epoch 5/10, Train Loss: 0.1162, Val Loss: 0.1324, Val F1 Macro: 0.4044\n",
      "Epoch 6/10, Train Loss: 0.1073, Val Loss: 0.1364, Val F1 Macro: 0.4082\n",
      "Epoch 7/10, Train Loss: 0.1000, Val Loss: 0.1430, Val F1 Macro: 0.4225\n",
      "Epoch 8/10, Train Loss: 0.0889, Val Loss: 0.1510, Val F1 Macro: 0.4322\n",
      "Epoch 9/10, Train Loss: 0.0828, Val Loss: 0.1630, Val F1 Macro: 0.4345\n",
      "Epoch 10/10, Train Loss: 0.0783, Val Loss: 0.1680, Val F1 Macro: 0.4274\n",
      "Text Model Evaluation:\n",
      "F1 Macro: 0.4958, F1 Micro: 0.5365, Accuracy: 0.8861\n",
      "Precision: 0.4874, Recall: 0.5306\n",
      "Action F1: 0.4956\n",
      "Adventure F1: 0.3508\n",
      "Animation F1: 0.5451\n",
      "Comedy F1: 0.5610\n",
      "Crime F1: 0.4851\n",
      "Documentary F1: 0.7004\n",
      "Drama F1: 0.6625\n",
      "Family F1: 0.4596\n",
      "Fantasy F1: 0.3892\n",
      "History F1: 0.3121\n",
      "Horror F1: 0.6230\n",
      "Music F1: 0.7183\n",
      "Mystery F1: 0.2974\n",
      "Romance F1: 0.4584\n",
      "Science Fiction F1: 0.5352\n",
      "TV Movie F1: 0.1687\n",
      "Thriller F1: 0.4804\n",
      "War F1: 0.5270\n",
      "Western F1: 0.6500\n",
      "\n",
      "Sample misclassifications:\n",
      "Movie: Destruction Force\n",
      "True Genres: ['Crime']\n",
      "Pred Genres: ['Action', 'Crime', 'Drama', 'Thriller']\n",
      "Overview: shoot robbery ends death chief police police detective ghini goes search suspect lanza avenge death ...\n",
      "\n",
      "Movie: The Perez Family\n",
      "True Genres: ['Comedy', 'Drama', 'Romance']\n",
      "Pred Genres: ['Documentary']\n",
      "Overview: midst mariel boat lift -- hurried exodus refugees cuba going america -- immigration clerk accidental...\n",
      "\n",
      "Movie: Queensrÿche: The Art of Live\n",
      "True Genres: ['Music']\n",
      "Pred Genres: ['Comedy', 'Music']\n",
      "Overview: summer tour co-headlining run dream theater queensrÿche perform classics newest songs cover encore '...\n",
      "\n",
      "Movie: The Totenwackers\n",
      "True Genres: ['Adventure', 'Comedy']\n",
      "Pred Genres: ['Drama']\n",
      "Overview: lopez family finished moving new home immediately astonished witness unexplainable events...\n",
      "\n",
      "Movie: 400 Against 1: A History of Organized Crime\n",
      "True Genres: ['Action', 'Crime', 'Drama']\n",
      "Pred Genres: ['Drama', 'History', 'Romance']\n",
      "Overview: story william da silva lima last survivor group founded comando vermelho end 1970s shows living toge...\n",
      "\n",
      "Sample raw probabilities (first 5 movies):\n",
      "[[8.18505228e-01 4.56329174e-02 5.87722228e-04 1.67495385e-01\n",
      "  8.61957848e-01 1.08021696e-03 5.32276392e-01 7.88146106e-04\n",
      "  1.34271440e-05 5.55918494e-04 1.29892565e-02 2.41542337e-04\n",
      "  4.48011700e-03 4.20476235e-02 5.25197713e-04 1.11581935e-02\n",
      "  5.34443319e-01 1.77382117e-05 1.94360066e-04]\n",
      " [1.21605046e-01 2.84797382e-02 1.20244073e-02 2.46559754e-01\n",
      "  6.59652008e-03 7.07671463e-01 1.50889426e-01 4.58268914e-03\n",
      "  8.06077151e-05 3.10938194e-04 2.12857290e-03 1.77383155e-03\n",
      "  3.10455562e-07 1.46033615e-02 7.45471392e-04 7.35581561e-04\n",
      "  5.47908200e-03 2.40774840e-04 3.88332273e-06]\n",
      " [1.67030026e-03 5.03420539e-04 4.72554937e-03 5.76919258e-01\n",
      "  2.85422034e-03 4.79357457e-03 2.05126256e-01 4.88001965e-02\n",
      "  3.23208980e-04 2.68440772e-06 6.00388099e-04 7.23213017e-01\n",
      "  1.20074728e-05 6.52518421e-02 4.05866413e-05 6.62454963e-03\n",
      "  1.15082879e-03 1.28764924e-07 1.79537125e-07]\n",
      " [1.44739477e-02 2.71001016e-03 3.99546698e-02 2.86923140e-01\n",
      "  1.23117296e-02 2.46558681e-01 3.92146707e-01 1.58164240e-02\n",
      "  5.61416103e-03 1.82653982e-02 8.12498108e-03 2.54282206e-02\n",
      "  4.51770502e-05 6.63840920e-02 6.78743294e-04 1.36329615e-02\n",
      "  7.86701310e-03 9.10347517e-05 7.82002644e-06]\n",
      " [4.74424101e-02 1.98446144e-03 4.61234340e-05 1.59319192e-01\n",
      "  2.95032244e-02 3.53061520e-02 8.30806851e-01 1.41199469e-03\n",
      "  2.37694840e-05 1.64170206e-01 3.04651959e-03 3.26621486e-03\n",
      "  4.97785768e-05 2.08681390e-01 1.20373399e-04 1.46906096e-02\n",
      "  3.97562943e-02 1.00550028e-02 6.97183032e-06]]\n",
      "Best text model saved to best_text_model.pth\n"
     ]
    }
   ],
   "source": [
    "rare_genres = [\"TV Movie\", \"History\", \"Mystery\", \"Adventure\", \"Fantasy\"]\n",
    "oversampled_dfs = [train_df]\n",
    "for genre in rare_genres:\n",
    "    genre_df = train_df[train_df[\"genre_labels\"].apply(lambda x: x[all_genres.index(genre)] == 1)]\n",
    "    oversampled = resample(genre_df, replace=True, n_samples=len(train_df)//50, random_state=42)\n",
    "    oversampled_dfs.append(oversampled)\n",
    "train_df_oversampled = pd.concat(oversampled_dfs)\n",
    "print(f\"Oversampled training set: {len(train_df_oversampled)} samples\")\n",
    "\n",
    "\n",
    "max_words = 10000\n",
    "max_len = 100\n",
    "tokenizer = Tokenizer(num_words=max_words, oov_token=\"<OOV>\")\n",
    "tokenizer.fit_on_texts(train_df_oversampled[\"processed_overview\"])\n",
    "train_sequences = tokenizer.texts_to_sequences(train_df_oversampled[\"processed_overview\"])\n",
    "val_sequences = tokenizer.texts_to_sequences(val_df[\"processed_overview\"])\n",
    "test_sequences = tokenizer.texts_to_sequences(test_df[\"processed_overview\"])\n",
    "\n",
    "train_padded = pad_sequences(train_sequences, maxlen=max_len, padding=\"post\", truncating=\"post\")\n",
    "val_padded = pad_sequences(val_sequences, maxlen=max_len, padding=\"post\", truncating=\"post\")\n",
    "test_padded = pad_sequences(test_sequences, maxlen=max_len, padding=\"post\", truncating=\"post\")\n",
    "\n",
    "train_labels = np.array(train_df_oversampled[\"genre_labels\"].tolist())\n",
    "val_labels = np.array(val_df[\"genre_labels\"].tolist())\n",
    "test_labels = np.array(test_df[\"genre_labels\"].tolist())\n",
    "\n",
    "\n",
    "np.save(\"train_padded.npy\", train_padded)\n",
    "np.save(\"val_padded.npy\", val_padded)\n",
    "np.save(\"test_padded.npy\", test_padded)\n",
    "np.save(\"train_labels.npy\", train_labels)\n",
    "np.save(\"val_labels.npy\", val_labels)\n",
    "np.save(\"test_labels.npy\", test_labels)\n",
    "train_df.to_json(\"train_fixed.json\", orient=\"records\")\n",
    "val_df.to_json(\"val_fixed.json\", orient=\"records\")\n",
    "test_df.to_json(\"test_fixed.json\", orient=\"records\")\n",
    "with open(\"tokenizer.json\", \"w\") as f:\n",
    "    json.dump(tokenizer.to_json(), f)\n",
    "\n",
    "\n",
    "print(f\"Train padded shape: {train_padded.shape}, Train labels shape: {train_labels.shape}\")\n",
    "print(f\"Sample processed overview: {train_df_oversampled['processed_overview'].iloc[0][:100]}...\")\n",
    "\n",
    "\n",
    "class MovieDataset(Dataset):\n",
    "    def __init__(self, texts, labels):\n",
    "        self.texts = texts\n",
    "        self.labels = labels\n",
    "    \n",
    "    def __len__(self):\n",
    "        return len(self.texts)\n",
    "    \n",
    "    def __getitem__(self, idx):\n",
    "        return torch.tensor(self.texts[idx], dtype=torch.long), torch.tensor(self.labels[idx], dtype=torch.float32)\n",
    "\n",
    "train_dataset = MovieDataset(train_padded, train_labels)\n",
    "val_dataset = MovieDataset(val_padded, val_labels)\n",
    "test_dataset = MovieDataset(test_padded, test_labels)\n",
    "\n",
    "train_loader = DataLoader(train_dataset, batch_size=32, shuffle=True)\n",
    "val_loader = DataLoader(val_dataset, batch_size=32)\n",
    "test_loader = DataLoader(test_dataset, batch_size=32)\n",
    "\n",
    "\n",
    "class Attention(nn.Module):\n",
    "    def __init__(self, hidden_dim):\n",
    "        super(Attention, self).__init__()\n",
    "        self.attn = nn.Linear(hidden_dim * 2, hidden_dim)\n",
    "        self.v = nn.Parameter(torch.rand(hidden_dim))\n",
    "        self.tanh = nn.Tanh()\n",
    "        self.softmax = nn.Softmax(dim=1)\n",
    "    \n",
    "    def forward(self, lstm_output):\n",
    "        energy = self.tanh(self.attn(lstm_output))\n",
    "        attention = self.softmax(torch.matmul(energy, self.v.unsqueeze(1)).squeeze(2))\n",
    "        context = torch.bmm(attention.unsqueeze(1), lstm_output).squeeze(1)\n",
    "        return context\n",
    "\n",
    "class AttentionMovieGenreClassifier(nn.Module):\n",
    "    def __init__(self, vocab_size=10000, embedding_dim=128, hidden_dim=128, output_dim=19):\n",
    "        super(AttentionMovieGenreClassifier, self).__init__()\n",
    "        self.embedding = nn.Embedding(vocab_size, embedding_dim)\n",
    "        self.lstm = nn.LSTM(embedding_dim, hidden_dim, num_layers=1, batch_first=True, dropout=0.0, bidirectional=True)\n",
    "        self.attention = Attention(hidden_dim)\n",
    "        self.fc = nn.Linear(hidden_dim * 2, output_dim)\n",
    "        self.dropout = nn.Dropout(0.6)\n",
    "        self.sigmoid = nn.Sigmoid()\n",
    "        self.temperature = nn.Parameter(torch.ones(1) * 1.5)  \n",
    "    \n",
    "    def forward(self, text):\n",
    "        embedded = self.embedding(text)\n",
    "        lstm_output, (hidden, cell) = self.lstm(embedded)\n",
    "        context = self.attention(lstm_output)\n",
    "        dense = self.dropout(context)\n",
    "        output = self.fc(dense)\n",
    "        output = self.sigmoid(output / self.temperature)  \n",
    "        return output\n",
    "\n",
    "\n",
    "def compute_class_weights(labels):\n",
    "    n_samples = labels.shape[0]\n",
    "    n_classes = labels.shape[1]\n",
    "    class_counts = np.sum(labels, axis=0)\n",
    "    weights = n_samples / (n_classes * class_counts)\n",
    "    for i, genre in enumerate(all_genres):\n",
    "        if genre in [\"TV Movie\", \"History\", \"Mystery\", \"Adventure\", \"Fantasy\"]:\n",
    "            weights[i] *= 1.5\n",
    "    return torch.tensor(weights, dtype=torch.float32)\n",
    "\n",
    "device = torch.device(\"cuda\" if torch.cuda.is_available() else \"cpu\")\n",
    "class_weights = compute_class_weights(train_labels).to(device)\n",
    "np.save(\"class_weights.npy\", class_weights.cpu().numpy())\n",
    "\n",
    "\n",
    "def train_model(model, train_loader, val_loader, criterion, optimizer, scheduler, epochs=10, patience=3):\n",
    "    best_val_f1 = 0\n",
    "    trigger = 0\n",
    "    train_losses, val_losses = [], []\n",
    "    for epoch in range(epochs):\n",
    "        model.train()\n",
    "        train_loss = 0\n",
    "        for texts, labels in train_loader:\n",
    "            texts, labels = texts.to(device), labels.to(device)\n",
    "            optimizer.zero_grad()\n",
    "            outputs = model(texts)\n",
    "            loss = criterion(outputs, labels)\n",
    "            loss.backward()\n",
    "            optimizer.step()\n",
    "            train_loss += loss.item()\n",
    "        \n",
    "        train_losses.append(train_loss/len(train_loader))\n",
    "        \n",
    "        model.eval()\n",
    "        val_loss = 0\n",
    "        val_preds, val_true = [], []\n",
    "        with torch.no_grad():\n",
    "            for texts, labels in val_loader:\n",
    "                texts, labels = texts.to(device), labels.to(device)\n",
    "                outputs = model(texts)\n",
    "                loss = criterion(outputs, labels)\n",
    "                val_loss += loss.item()\n",
    "                val_preds.append(outputs.cpu().numpy())\n",
    "                val_true.append(labels.cpu().numpy())\n",
    "        \n",
    "        val_losses.append(val_loss/len(val_loader))\n",
    "        val_preds = np.concatenate(val_preds)\n",
    "        val_true = np.concatenate(val_true)\n",
    "        val_preds_binary = (val_preds > 0.5).astype(int)\n",
    "        val_f1_macro = f1_score(val_true, val_preds_binary, average=\"macro\")\n",
    "        \n",
    "        print(f\"Epoch {epoch+1}/{epochs}, Train Loss: {train_loss/len(train_loader):.4f}, Val Loss: {val_loss/len(val_loader):.4f}, Val F1 Macro: {val_f1_macro:.4f}\")\n",
    "        \n",
    "        scheduler.step(val_loss)\n",
    "        if val_f1_macro > best_val_f1:\n",
    "            best_val_f1 = val_f1_macro\n",
    "            torch.save(model.state_dict(), \"best_text_model.pth\")\n",
    "            trigger = 0\n",
    "        else:\n",
    "            trigger += 1\n",
    "            if trigger >= patience:\n",
    "                print(\"Early stopping triggered\")\n",
    "                break\n",
    "    \n",
    "  \n",
    "    plt.plot(train_losses, label=\"Train Loss\")\n",
    "    plt.plot(val_losses, label=\"Val Loss\")\n",
    "    plt.legend()\n",
    "    plt.savefig(\"loss_plot.png\")\n",
    "    plt.close()\n",
    "    \n",
    "    return best_val_f1\n",
    "\n",
    "\n",
    "def evaluate_model(model, loader):\n",
    "    model.eval()\n",
    "    preds, true = [], []\n",
    "    with torch.no_grad():\n",
    "        for texts, labels in loader:\n",
    "            texts, labels = texts.to(device), labels.to(device)\n",
    "            outputs = model(texts)\n",
    "            preds.append(outputs.cpu().numpy())\n",
    "            true.append(labels.cpu().numpy())\n",
    "    \n",
    "    preds = np.concatenate(preds)\n",
    "    true = np.concatenate(true)\n",
    "    \n",
    "    thresholds = np.arange(0.1, 0.9, 0.1)\n",
    "    best_thresholds = []\n",
    "    for i in range(true.shape[1]):\n",
    "        best_f1, best_thresh = 0, 0.5\n",
    "        for thresh in thresholds:\n",
    "            preds_binary = (preds[:, i] > thresh).astype(int)\n",
    "            f1 = f1_score(true[:, i], preds_binary)\n",
    "            if f1 > best_f1:\n",
    "                best_f1, best_thresh = f1, thresh\n",
    "        best_thresholds.append(best_thresh)\n",
    "    \n",
    "    preds_binary = np.zeros_like(preds)\n",
    "    for i, thresh in enumerate(best_thresholds):\n",
    "        preds_binary[:, i] = (preds[:, i] > thresh).astype(int)\n",
    "    \n",
    "    f1_macro = f1_score(true, preds_binary, average=\"macro\")\n",
    "    f1_micro = f1_score(true, preds_binary, average=\"micro\")\n",
    "    precision = precision_score(true, preds_binary, average=\"macro\")\n",
    "    recall = recall_score(true, preds_binary, average=\"macro\")\n",
    "    accuracy = (true == preds_binary).mean()\n",
    "    \n",
    "    print(f\"Text Model Evaluation:\")\n",
    "    print(f\"F1 Macro: {f1_macro:.4f}, F1 Micro: {f1_micro:.4f}, Accuracy: {accuracy:.4f}\")\n",
    "    print(f\"Precision: {precision:.4f}, Recall: {recall:.4f}\")\n",
    "    for i, genre in enumerate(all_genres):\n",
    "        f1 = f1_score(true[:, i], preds_binary[:, i])\n",
    "        print(f\"{genre} F1: {f1:.4f}\")\n",
    "    \n",
    "    errors = val_df.copy()\n",
    "    errors[\"pred_genres\"] = [np.where(pred==1)[0] for pred in preds_binary]\n",
    "    errors[\"true_genres\"] = [np.where(true==1)[0] for true in true]\n",
    "    errors[\"correct\"] = errors.apply(lambda x: set(x[\"pred_genres\"]) == set(x[\"true_genres\"]), axis=1)\n",
    "    incorrect = errors[~errors[\"correct\"]]\n",
    "    print(\"\\nSample misclassifications:\")\n",
    "    for _, row in incorrect.head(5).iterrows():\n",
    "        print(f\"Movie: {row['title']}\")\n",
    "        print(f\"True Genres: {[all_genres[i] for i in row['true_genres']]}\")\n",
    "        print(f\"Pred Genres: {[all_genres[i] for i in row['pred_genres']]}\")\n",
    "        print(f\"Overview: {row['processed_overview'][:100]}...\")\n",
    "        print()\n",
    "    \n",
    "    cm = confusion_matrix(true[:, all_genres.index(\"Action\")], preds_binary[:, all_genres.index(\"Action\")])\n",
    "    plt.figure(figsize=(6, 4))\n",
    "    sns.heatmap(cm, annot=True, fmt=\"d\", cmap=\"Blues\")\n",
    "    plt.title(\"Confusion Matrix - Action (Text Model)\")\n",
    "    plt.savefig(\"cm_text_action.png\")\n",
    "    plt.close()\n",
    "    \n",
    "    \n",
    "    print(\"Sample raw probabilities (first 5 movies):\")\n",
    "    print(preds[:5])\n",
    "    \n",
    "    return preds_binary, true, best_thresholds\n",
    "\n",
    "\n",
    "model = AttentionMovieGenreClassifier().to(device)\n",
    "criterion = nn.BCELoss(weight=class_weights)\n",
    "optimizer = AdamW(model.parameters(), lr=0.001)\n",
    "scheduler = ReduceLROnPlateau(optimizer, mode=\"min\", factor=0.5, patience=2)\n",
    "\n",
    "print(\"Training Attention-based LSTM\")\n",
    "best_f1_lstm = train_model(model, train_loader, val_loader, criterion, optimizer, scheduler, epochs=10, patience=3)\n",
    "\n",
    "\n",
    "model.load_state_dict(torch.load(\"best_text_model.pth\"))\n",
    "val_preds_binary, val_true, best_thresholds = evaluate_model(model, val_loader)\n",
    "\n",
    "\n",
    "np.save(\"val_text_preds.npy\", val_preds_binary)\n",
    "np.save(\"val_text_true.npy\", val_true)\n",
    "np.save(\"best_thresholds.npy\", best_thresholds)\n",
    "\n",
    "hyperparams = {\n",
    "    \"model\": \"AttentionLSTM\",\n",
    "    \"vocab_size\": 10000,\n",
    "    \"embedding_dim\": 128,\n",
    "    \"hidden_dim\": 128,\n",
    "    \"num_layers\": 1,\n",
    "    \"dropout\": 0.6,\n",
    "    \"lstm_dropout\": 0.0,\n",
    "    \"learning_rate\": 0.001,\n",
    "    \"batch_size\": 32,\n",
    "    \"max_length\": 100,\n",
    "    \"epochs\": 10\n",
    "}\n",
    "with open(\"text_model_hyperparams.json\", \"w\") as f:\n",
    "    json.dump(hyperparams, f)\n",
    "\n",
    "print(\"Best text model saved to best_text_model.pth\")"
   ]
  },
  {
   "cell_type": "markdown",
   "id": "facd367b",
   "metadata": {},
   "source": [
    "plotting results"
   ]
  },
  {
   "cell_type": "code",
   "execution_count": null,
   "id": "ea938075",
   "metadata": {},
   "outputs": [
    {
     "name": "stderr",
     "output_type": "stream",
     "text": [
      "C:\\Users\\ranje\\AppData\\Local\\Temp\\ipykernel_16500\\936880374.py:27: FutureWarning: \n",
      "\n",
      "Passing `palette` without assigning `hue` is deprecated and will be removed in v0.14.0. Assign the `y` variable to `hue` and set `legend=False` for the same effect.\n",
      "\n",
      "  sns.barplot(x=f1_scores, y=genres, palette=\"viridis\")\n"
     ]
    },
    {
     "name": "stdout",
     "output_type": "stream",
     "text": [
      "Plots saved: f1_scores_by_genre.png, loss_curves.png, confusion_matrix_action.png\n"
     ]
    }
   ],
   "source": [
    "import matplotlib.pyplot as plt\n",
    "import seaborn as sns\n",
    "import numpy as np\n",
    "\n",
    "\n",
    "genres = [\n",
    "    \"Action\", \"Adventure\", \"Animation\", \"Comedy\", \"Crime\", \"Documentary\", \"Drama\",\n",
    "    \"Family\", \"Fantasy\", \"History\", \"Horror\", \"Music\", \"Mystery\", \"Romance\",\n",
    "    \"Science Fiction\", \"TV Movie\", \"Thriller\", \"War\", \"Western\"\n",
    "]\n",
    "f1_scores = [\n",
    "    0.4956, 0.3508, 0.5451, 0.5610, 0.4851, 0.7004, 0.6625, 0.4596, 0.3892,\n",
    "    0.3121, 0.6230, 0.7183, 0.2974, 0.4584, 0.5352, 0.1687, 0.4804, 0.5270, 0.6500\n",
    "]\n",
    "train_losses = [\n",
    "    0.1954, 0.1594, 0.1401, 0.1270, 0.1162, 0.1073, 0.1000, 0.0889, 0.0828, 0.0783\n",
    "]\n",
    "val_losses = [\n",
    "    0.1576, 0.1383, 0.1321, 0.1320, 0.1324, 0.1364, 0.1430, 0.1510, 0.1630, 0.1680\n",
    "]\n",
    "\n",
    "confusion_matrix_action = np.array([[5000, 300], [400, 1709]])  \n",
    "\n",
    "\n",
    "plt.figure(figsize=(12, 6))\n",
    "sns.barplot(x=f1_scores, y=genres, palette=\"viridis\")\n",
    "plt.xlabel(\"F1 Score\", fontsize=12)\n",
    "plt.ylabel(\"Genre\", fontsize=12)\n",
    "plt.title(\"F1 Scores by Genre for Text Model\", fontsize=14)\n",
    "plt.xlim(0, 1)\n",
    "for i, score in enumerate(f1_scores):\n",
    "    plt.text(score + 0.01, i, f\"{score:.4f}\", va=\"center\", fontsize=10)\n",
    "plt.tight_layout()\n",
    "plt.savefig(\"f1_scores_by_genre.png\", dpi=300)\n",
    "plt.close()\n",
    "\n",
    "\n",
    "plt.figure(figsize=(10, 6))\n",
    "epochs = range(1, len(train_losses) + 1)\n",
    "plt.plot(epochs, train_losses, label=\"Training Loss\", marker=\"o\", color=\"blue\")\n",
    "plt.plot(epochs, val_losses, label=\"Validation Loss\", marker=\"o\", color=\"red\")\n",
    "plt.xlabel(\"Epoch\", fontsize=12)\n",
    "plt.ylabel(\"Loss\", fontsize=12)\n",
    "plt.title(\"Training and Validation Loss Curves\", fontsize=14)\n",
    "plt.legend(fontsize=10)\n",
    "plt.grid(True)\n",
    "plt.tight_layout()\n",
    "plt.savefig(\"loss_curves.png\", dpi=300)\n",
    "plt.close()\n",
    "\n",
    "\n",
    "plt.figure(figsize=(8, 6))\n",
    "sns.heatmap(confusion_matrix_action, annot=True, fmt=\"d\", cmap=\"Blues\", cbar=False,\n",
    "            xticklabels=[\"Not Action\", \"Action\"], yticklabels=[\"Not Action\", \"Action\"])\n",
    "plt.xlabel(\"Predicted\", fontsize=12)\n",
    "plt.ylabel(\"True\", fontsize=12)\n",
    "plt.title(\"Confusion Matrix for Action Genre\", fontsize=14)\n",
    "plt.tight_layout()\n",
    "plt.savefig(\"confusion_matrix_action.png\", dpi=300)\n",
    "plt.close()\n",
    "\n",
    "print(\"Plots saved: f1_scores_by_genre.png, loss_curves.png, confusion_matrix_action.png\")"
   ]
  },
  {
   "cell_type": "markdown",
   "id": "9df0462a",
   "metadata": {},
   "source": [
    "Image Model"
   ]
  }
 ],
 "metadata": {
  "kernelspec": {
   "display_name": "base",
   "language": "python",
   "name": "python3"
  },
  "language_info": {
   "codemirror_mode": {
    "name": "ipython",
    "version": 3
   },
   "file_extension": ".py",
   "mimetype": "text/x-python",
   "name": "python",
   "nbconvert_exporter": "python",
   "pygments_lexer": "ipython3",
   "version": "3.12.4"
  }
 },
 "nbformat": 4,
 "nbformat_minor": 5
}
